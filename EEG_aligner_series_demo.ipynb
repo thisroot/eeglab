{
 "cells": [
  {
   "cell_type": "code",
   "execution_count": 1,
   "metadata": {
    "collapsed": false
   },
   "outputs": [],
   "source": [
    "from EEG.preprocessing import aligner_exp, aligner_series"
   ]
  },
  {
   "cell_type": "code",
   "execution_count": 2,
   "metadata": {
    "collapsed": false
   },
   "outputs": [
    {
     "data": {
      "text/plain": [
       "True"
      ]
     },
     "execution_count": 2,
     "metadata": {},
     "output_type": "execute_result"
    }
   ],
   "source": [
    "path = \"C:\\\\eeg\\\\01exp\\\\\"\n",
    "test = aligner_series(path)\n",
    "test.align(250,250,saveas='class')"
   ]
  },
  {
   "cell_type": "code",
   "execution_count": 5,
   "metadata": {
    "collapsed": false
   },
   "outputs": [
    {
     "name": "stdout",
     "output_type": "stream",
     "text": [
      "=================================================================\n",
      "Name series of experiments:  name\n",
      "Description: description\n",
      "Count experiments: 4 Successed: 3\n",
      "Num test 37 Num tests among sucessed 37\n",
      "Labels_names: [ удалено, левое, правое, отдых ]\n",
      "Frequency: 1000\n",
      "------------------------------------------------------------------\n",
      "Chanels_names:\n",
      "------------------------------------------------------------------\n",
      "FC5        FT7        FC3        FCz        FC4        FT8       \n",
      "T3         C3         Cz         T4         C4        \n",
      "TP7        CP3        CPz        CP4        TP8       \n",
      "FC1        FC2        FC6        P4         C5        \n",
      "C1         C2         C6         P3         CP5       \n",
      "CP1        CP2        CP6        POz       \n",
      "-------------------------------------------------------------------\n",
      "Unique respondents\n",
      "-------------------------------------------------------------------\n",
      "Иван Иванов\n",
      "------------------------------------------------------------------\n",
      "List experiments\n",
      "------------------------------------------------------------------\n",
      "20161129_DBS_001 20161209_KPS_001 20161210_GSH_001\n",
      "\n",
      "==================================================================\n"
     ]
    }
   ],
   "source": [
    "test.getinfo()"
   ]
  },
  {
   "cell_type": "code",
   "execution_count": null,
   "metadata": {
    "collapsed": true
   },
   "outputs": [],
   "source": []
  }
 ],
 "metadata": {
  "kernelspec": {
   "display_name": "Python 2",
   "language": "python",
   "name": "python2"
  },
  "language_info": {
   "codemirror_mode": {
    "name": "ipython",
    "version": 2
   },
   "file_extension": ".py",
   "mimetype": "text/x-python",
   "name": "python",
   "nbconvert_exporter": "python",
   "pygments_lexer": "ipython2",
   "version": "2.7.13"
  }
 },
 "nbformat": 4,
 "nbformat_minor": 2
}
