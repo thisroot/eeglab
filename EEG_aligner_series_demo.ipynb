{
 "cells": [
  {
   "cell_type": "code",
   "execution_count": 16,
   "metadata": {
    "collapsed": true
   },
   "outputs": [],
   "source": [
    "import pickle, os, glob, sys\n",
    "import numpy as np\n",
    "from EEG.preprocessing import aligner_exp"
   ]
  },
  {
   "cell_type": "code",
   "execution_count": 19,
   "metadata": {
    "collapsed": false
   },
   "outputs": [
    {
     "data": {
      "text/plain": [
       "True"
      ]
     },
     "execution_count": 19,
     "metadata": {},
     "output_type": "execute_result"
    }
   ],
   "source": [
    "class aligner_series:\n",
    "    def __init__(self,path = '.\\\\', fileinfo = 'series_info.dat'):\n",
    "                \n",
    "        self.fileinfo = fileinfo\n",
    "        self.path = path\n",
    "        self.info = self.__loadinfo(path, self.fileinfo)\n",
    "        \n",
    "    def __loadinfo(self,path, fileinfo):\n",
    "        try:\n",
    "            with open(os.path.join(path, fileinfo), 'rb') as input:   \n",
    "                data = pickle.load(input)\n",
    "            return data\n",
    "        except:\n",
    "            sys.exit('Object:' + os.path.join(path, fileinfo) +' can\\'t load')\n",
    "            \n",
    "            \n",
    "    def align(self,shift=0, mult=500, ignore = False, mode = 'Force', filename = 'exp_data_aligned', saveas = 'data'):\n",
    "        for idx, item in enumerate(self.info.list_exp):\n",
    "            aligner = aligner_exp(os.path.join(self.path,item))\n",
    "            flag = aligner.align(shift,mult)\n",
    "            \n",
    "            if(flag == True):\n",
    "                aligner.save(mode = saveas)\n",
    "            else:\n",
    "                self.__delFalseExpInfo(idx)\n",
    "        return True\n",
    "        pass\n",
    "    \n",
    "    \n",
    "    def __delFalseExpInfo(self,idx):\n",
    "        self.info.list_exp.pop(idx)\n",
    "        self.info.save()\n",
    "        self.info.getinfo()\n",
    "        \n",
    "        \n",
    "\n",
    "root = \"C:\\\\eeg\\\\01exp\\\\\"\n",
    "\n",
    "test = aligner_series(root)\n",
    "test.align(250,250)"
   ]
  },
  {
   "cell_type": "code",
   "execution_count": 20,
   "metadata": {
    "collapsed": false
   },
   "outputs": [
    {
     "name": "stdout",
     "output_type": "stream",
     "text": [
      "=================================================================\n",
      "Name series of experiments:  Первая серия экспериментов\n",
      "Description: description\n",
      "Count experiments: 4 Successed: 3\n",
      "Num test 37 Num tests among sucessed 37\n",
      "Labels_names: [ шум, левое, правое, отдых ]\n",
      "Frequency: 1000\n",
      "------------------------------------------------------------------\n",
      "Chanels_names:\n",
      "------------------------------------------------------------------\n",
      "FC5        FT7        FC3        FCz        FC4        FT8       \n",
      "T3         C3         Cz         T4         C4        \n",
      "TP7        CP3        CPz        CP4        TP8       \n",
      "FC1        FC2        FC6        P4         C5        \n",
      "C1         C2         C6         P3         CP5       \n",
      "CP1        CP2        CP6        POz       \n",
      "-------------------------------------------------------------------\n",
      "Unique respondents\n",
      "-------------------------------------------------------------------\n",
      "Иван Иванов\n",
      "------------------------------------------------------------------\n",
      "List experiments\n",
      "------------------------------------------------------------------\n",
      "20161129_DBS_001 20161209_KPS_001 20161210_GSH_001\n",
      "\n",
      "==================================================================\n"
     ]
    }
   ],
   "source": [
    "test.info.getinfo()"
   ]
  },
  {
   "cell_type": "code",
   "execution_count": null,
   "metadata": {
    "collapsed": true
   },
   "outputs": [],
   "source": []
  }
 ],
 "metadata": {
  "kernelspec": {
   "display_name": "Python 2",
   "language": "python",
   "name": "python2"
  },
  "language_info": {
   "codemirror_mode": {
    "name": "ipython",
    "version": 2
   },
   "file_extension": ".py",
   "mimetype": "text/x-python",
   "name": "python",
   "nbconvert_exporter": "python",
   "pygments_lexer": "ipython2",
   "version": "2.7.13"
  }
 },
 "nbformat": 4,
 "nbformat_minor": 2
}
