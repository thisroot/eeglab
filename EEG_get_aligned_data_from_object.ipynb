{
 "cells": [
  {
   "cell_type": "code",
   "execution_count": 1,
   "metadata": {
    "collapsed": false
   },
   "outputs": [],
   "source": [
    "import pickle, os, glob\n",
    "from EEG.info import info_exp"
   ]
  },
  {
   "cell_type": "code",
   "execution_count": 2,
   "metadata": {
    "collapsed": false
   },
   "outputs": [],
   "source": [
    "root = \"C:\\\\eeg\\\\01exp\\\\\"\n",
    "name = \"20161129_DBS_001\""
   ]
  },
  {
   "cell_type": "code",
   "execution_count": 3,
   "metadata": {
    "collapsed": false
   },
   "outputs": [],
   "source": [
    "def save(path,name,data):\n",
    "    with open(path +'/'+ name, 'wb') as output:\n",
    "        pickle.dump(data, output, pickle.HIGHEST_PROTOCOL)\n",
    "        \n",
    "def load(path,name):\n",
    "    with open(path + '/' + name, 'rb') as input:\n",
    "        data = pickle.load(input)\n",
    "        return data"
   ]
  },
  {
   "cell_type": "code",
   "execution_count": 4,
   "metadata": {
    "collapsed": false
   },
   "outputs": [],
   "source": [
    "test = load(root + name,'exp_data_aligned.cls')"
   ]
  },
  {
   "cell_type": "code",
   "execution_count": 9,
   "metadata": {
    "collapsed": false
   },
   "outputs": [
    {
     "name": "stdout",
     "output_type": "stream",
     "text": [
      "=================================================================\n",
      "Experiment status:  True ; Num tests:  12\n",
      "Respondent name:  Иван Иванов\n",
      "Description: Эксперимент с обратной связью\n",
      "Labels_names: [ удалено, левое, правое, отдых ]\n",
      "Frequency: 1000\n",
      "Count train activities:  45\n",
      "Count tests activities: [ 30, 30, 30, 30, 30, 30, 30, 30, 30, 30, 30, 30 ]\n",
      "Time of activity: 4500\n",
      "------------------------------------------------------------------\n",
      "Chanels_names:\n",
      "------------------------------------------------------------------\n",
      "FC5        FT7        FC3        FCz        FC4        FT8       \n",
      "T3         C3         Cz         T4         C4        \n",
      "TP7        CP3        CPz        CP4        TP8       \n",
      "FC1        FC2        FC6        P4         C5        \n",
      "C1         C2         C6         P3         CP5       \n",
      "CP1        CP2        CP6        POz       \n",
      "------------------------------------------------------------------\n",
      "List tests\n",
      "------------------------------------------------------------------\n",
      "20161129_173025 20161129_173919 20161129_174505\n",
      "20161129_175011 20161129_175517\n",
      "20161129_180043 20161129_180632\n",
      "20161129_181557 20161129_182114\n",
      "20161129_182715 20161129_183224\n",
      "20161129_183740\n",
      "==================================================================\n"
     ]
    }
   ],
   "source": [
    "test.getinfo()"
   ]
  },
  {
   "cell_type": "code",
   "execution_count": 10,
   "metadata": {
    "collapsed": false
   },
   "outputs": [
    {
     "name": "stdout",
     "output_type": "stream",
     "text": [
      "['tests', 'states_train', 'data_train', 'stop', 'num_activities', 'start', 'time']\n"
     ]
    }
   ],
   "source": [
    "print test.data.keys()"
   ]
  }
 ],
 "metadata": {
  "kernelspec": {
   "display_name": "Python 2",
   "language": "python",
   "name": "python2"
  },
  "language_info": {
   "codemirror_mode": {
    "name": "ipython",
    "version": 2
   },
   "file_extension": ".py",
   "mimetype": "text/x-python",
   "name": "python",
   "nbconvert_exporter": "python",
   "pygments_lexer": "ipython2",
   "version": "2.7.13"
  }
 },
 "nbformat": 4,
 "nbformat_minor": 2
}
