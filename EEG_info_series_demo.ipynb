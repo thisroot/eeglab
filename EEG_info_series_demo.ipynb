{
 "cells": [
  {
   "cell_type": "code",
   "execution_count": 3,
   "metadata": {
    "collapsed": false
   },
   "outputs": [],
   "source": [
    "import pickle, os, glob\n",
    "from EEG.info import info_exp, info_series"
   ]
  },
  {
   "cell_type": "code",
   "execution_count": 4,
   "metadata": {
    "collapsed": false
   },
   "outputs": [],
   "source": [
    "path = \"C:\\\\eeg\\\\02exp\\\\\"\n",
    "\n",
    "test = info_series(path)\n",
    "test.exp_name = \"Первая серия экспериментов\"\n",
    "test.save()"
   ]
  },
  {
   "cell_type": "code",
   "execution_count": 5,
   "metadata": {
    "collapsed": true
   },
   "outputs": [],
   "source": [
    "def load(path,name):\n",
    "    with open(path + '/' + name, 'rb') as input:\n",
    "        data = pickle.load(input)\n",
    "        return data"
   ]
  },
  {
   "cell_type": "code",
   "execution_count": 6,
   "metadata": {
    "collapsed": false
   },
   "outputs": [],
   "source": [
    "data = load(path, 'series_info.dat')"
   ]
  },
  {
   "cell_type": "code",
   "execution_count": 7,
   "metadata": {
    "collapsed": false
   },
   "outputs": [
    {
     "name": "stdout",
     "output_type": "stream",
     "text": [
      "=================================================================\n",
      "Name series of experiments:  Первая серия экспериментов\n",
      "Description: description\n",
      "Count experiments: 9 Successed: 1\n",
      "Num test 14 Num tests among sucessed 6\n",
      "Labels_names: [ шум, отдых, левая, правая ]\n",
      "Frequency: 1000\n",
      "------------------------------------------------------------------\n",
      "Chanels_names:\n",
      "------------------------------------------------------------------\n",
      "FC5        FT7        FC3        FCz        FC4        FT8       \n",
      "T3         C3         Cz         T4         C4        \n",
      "TP7        CP3        CPz        CP4        TP8       \n",
      "FC1        FC2        FC6        P4         C5        \n",
      "C1         C2         C6         P3         CP5       \n",
      "CP1        CP2        CP6        POz       \n",
      "-------------------------------------------------------------------\n",
      "Unique respondents\n",
      "-------------------------------------------------------------------\n",
      "Василий Петров Евгений Петров\n",
      "------------------------------------------------------------------\n",
      "List experiments\n",
      "------------------------------------------------------------------\n",
      "20170220_ITV_001 20170220_ITV_002 20170220_TVD_001\n",
      "20170220_TVD_002 20170220_TVD_003\n",
      "20170221_OOM_001 20170221_OOM_002\n",
      "20170222_PEM_001 20170222_PEM_002\n",
      "\n",
      "==================================================================\n"
     ]
    }
   ],
   "source": [
    "data.getinfo()"
   ]
  },
  {
   "cell_type": "code",
   "execution_count": null,
   "metadata": {
    "collapsed": true
   },
   "outputs": [],
   "source": []
  }
 ],
 "metadata": {
  "kernelspec": {
   "display_name": "Python 2",
   "language": "python",
   "name": "python2"
  },
  "language_info": {
   "codemirror_mode": {
    "name": "ipython",
    "version": 2
   },
   "file_extension": ".py",
   "mimetype": "text/x-python",
   "name": "python",
   "nbconvert_exporter": "python",
   "pygments_lexer": "ipython2",
   "version": "2.7.13"
  }
 },
 "nbformat": 4,
 "nbformat_minor": 2
}
