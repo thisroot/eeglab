{
 "cells": [
  {
   "cell_type": "code",
   "execution_count": 1,
   "metadata": {
    "collapsed": false
   },
   "outputs": [],
   "source": [
    "%matplotlib inline\n",
    "\n",
    "import warnings\n",
    "warnings.filterwarnings('ignore')\n",
    "import pickle, os, glob\n",
    "from EEG.info import info_exp\n",
    "from EEG.converter import converter_mne\n",
    "from EEG.preprocessing import aligner_exp\n",
    "import mne\n",
    "import numpy as np\n",
    "import sys"
   ]
  },
  {
   "cell_type": "code",
   "execution_count": 2,
   "metadata": {
    "collapsed": true
   },
   "outputs": [],
   "source": [
    "root = \"C:\\\\eeg\\\\01exp\\\\\"\n",
    "name = \"20161129_DBS_001\"\n",
    "\n",
    "def load(path,name):\n",
    "    with open(path + '/' + name, 'rb') as input:\n",
    "        data = pickle.load(input)\n",
    "        return data"
   ]
  },
  {
   "cell_type": "code",
   "execution_count": 3,
   "metadata": {
    "collapsed": false
   },
   "outputs": [],
   "source": [
    "test = aligner_exp(root + name)"
   ]
  },
  {
   "cell_type": "code",
   "execution_count": 4,
   "metadata": {
    "collapsed": false
   },
   "outputs": [],
   "source": [
    "raw = test.getdata(mode='raw')"
   ]
  },
  {
   "cell_type": "code",
   "execution_count": 5,
   "metadata": {
    "collapsed": false
   },
   "outputs": [],
   "source": [
    "raw_train = raw['data']['data_train']\n",
    "raw_events = raw['data']['states_train']"
   ]
  },
  {
   "cell_type": "code",
   "execution_count": 6,
   "metadata": {
    "collapsed": false
   },
   "outputs": [],
   "source": [
    "import neo\n",
    "import mne\n",
    "\n",
    "mne_info = mne.create_info(ch_names = raw['info'].chanels_names, \n",
    "                               sfreq = raw['info'].frequency,\n",
    "                               ch_types = raw['info'].ch_types, \n",
    "                               montage = raw['info'].montage)\n",
    "\n",
    "raw_mne = mne.io.RawArray(raw_train, mne_info)\n",
    "#raw_mne.add_events(raw_events)"
   ]
  },
  {
   "cell_type": "code",
   "execution_count": 12,
   "metadata": {
    "collapsed": false
   },
   "outputs": [],
   "source": [
    "def create_events(states_full):\n",
    "    xa = np.hstack([[0], states_full[0], [0]])\n",
    "    xa1 = (xa != 0) + 0\n",
    "    xadf = np.diff(xa1)\n",
    "    starts = np.where(xadf == 1)[0]\n",
    "    stops_p1 = np.where(xadf == -1)[0]\n",
    "    lens = stops_p1 - starts\n",
    "    codes = states_full[0, starts]\n",
    "    trl = np.zeros((len(starts), 3))\n",
    "    start = 0\n",
    "    min_len = min(lens)\n",
    "    for i in range(0, len(lens)):\n",
    "        trl[i] = [start, 0, codes[i]]\n",
    "        start = start + lens[i]\n",
    "    return trl.astype(int)\n",
    "\n",
    "events = create_events(raw_events)"
   ]
  },
  {
   "cell_type": "code",
   "execution_count": 15,
   "metadata": {
    "collapsed": false
   },
   "outputs": [
    {
     "name": "stdout",
     "output_type": "stream",
     "text": [
      "{u'\\u0443\\u0434\\u0430\\u043b\\u0435\\u043d\\u043e': None, u'\\u043b\\u0435\\u0432\\u0430\\u044f': None, u'\\u043e\\u0442\\u0434\\u044b\\u0445': None, u'\\u043f\\u0440\\u0430\\u0432\\u0430\\u044f': None}\n"
     ]
    }
   ],
   "source": [
    "def get_labels(labels_names):\n",
    "    labels = dict.fromkeys(labels_names)\n",
    "    print labels\n",
    "    for idx, i in enumerate(labels):\n",
    "        labels[i] = idx\n",
    "    labels.pop(u'удалено', None)\n",
    "    return labels\n",
    "\n",
    "labels = get_labels(raw['info'].labels_names)\n",
    "\n",
    "\n",
    "epochs = mne.Epochs(raw_mne,events,event_id=labels,add_eeg_ref=False, preload = True, tmin = 0, tmax = 4.499)"
   ]
  },
  {
   "cell_type": "code",
   "execution_count": 16,
   "metadata": {
    "collapsed": false
   },
   "outputs": [
    {
     "data": {
      "text/plain": [
       "<Epochs  |  n_events : 45 (all good), tmin : 0.0 (s), tmax : 4.499 (s), baseline : (None, 0), ~46.4 MB, data loaded,\n",
       " u'\\u043b\\u0435\\u0432\\u0430\\u044f': 15, u'\\u043e\\u0442\\u0434\\u044b\\u0445': 15, u'\\u043f\\u0440\\u0430\\u0432\\u0430\\u044f': 15>"
      ]
     },
     "execution_count": 16,
     "metadata": {},
     "output_type": "execute_result"
    }
   ],
   "source": [
    "epochs"
   ]
  },
  {
   "cell_type": "code",
   "execution_count": null,
   "metadata": {
    "collapsed": true
   },
   "outputs": [],
   "source": []
  }
 ],
 "metadata": {
  "kernelspec": {
   "display_name": "Python 2",
   "language": "python",
   "name": "python2"
  },
  "language_info": {
   "codemirror_mode": {
    "name": "ipython",
    "version": 2
   },
   "file_extension": ".py",
   "mimetype": "text/x-python",
   "name": "python",
   "nbconvert_exporter": "python",
   "pygments_lexer": "ipython2",
   "version": "2.7.13"
  }
 },
 "nbformat": 4,
 "nbformat_minor": 2
}
