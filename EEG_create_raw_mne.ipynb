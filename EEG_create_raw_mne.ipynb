{
 "cells": [
  {
   "cell_type": "code",
   "execution_count": 1,
   "metadata": {
    "collapsed": false
   },
   "outputs": [],
   "source": [
    "%matplotlib inline\n",
    "\n",
    "import warnings\n",
    "warnings.filterwarnings('ignore')\n",
    "import pickle, os, glob\n",
    "from EEG.info import info_exp\n",
    "from EEG.converter import converter_mne\n",
    "from EEG.preprocessing import aligner_exp\n",
    "import mne\n",
    "import numpy as np\n",
    "import sys"
   ]
  },
  {
   "cell_type": "code",
   "execution_count": 2,
   "metadata": {
    "collapsed": true
   },
   "outputs": [],
   "source": [
    "root = \"C:\\\\eeg\\\\01exp\\\\\"\n",
    "name = \"20161129_DBS_001\"\n",
    "\n",
    "def load(path,name):\n",
    "    with open(path + '/' + name, 'rb') as input:\n",
    "        data = pickle.load(input)\n",
    "        return data"
   ]
  },
  {
   "cell_type": "code",
   "execution_count": 3,
   "metadata": {
    "collapsed": false
   },
   "outputs": [],
   "source": [
    "test = aligner_exp(root + name)"
   ]
  },
  {
   "cell_type": "code",
   "execution_count": 4,
   "metadata": {
    "collapsed": false
   },
   "outputs": [],
   "source": [
    "raw = test.getdata(mode='raw')"
   ]
  },
  {
   "cell_type": "code",
   "execution_count": 5,
   "metadata": {
    "collapsed": false
   },
   "outputs": [],
   "source": [
    "raw_train = raw['data']['data_train']\n",
    "raw_events = raw['data']['states_train']"
   ]
  },
  {
   "cell_type": "code",
   "execution_count": 6,
   "metadata": {
    "collapsed": false
   },
   "outputs": [],
   "source": [
    "import neo\n",
    "import mne\n",
    "\n",
    "mne_info = mne.create_info(ch_names = raw['info'].chanels_names, \n",
    "                               sfreq = raw['info'].frequency,\n",
    "                               ch_types = raw['info'].ch_types, \n",
    "                               montage = raw['info'].montage)\n",
    "\n",
    "raw_mne = mne.io.RawArray(raw_train, mne_info)"
   ]
  },
  {
   "cell_type": "code",
   "execution_count": 7,
   "metadata": {
    "collapsed": false
   },
   "outputs": [],
   "source": [
    "def create_events(states_full):\n",
    "    xa = np.hstack([[0], states_full[0], [0]])\n",
    "    xa1 = (xa != 0) + 0\n",
    "    xadf = np.diff(xa1)\n",
    "    starts = np.where(xadf == 1)[0]\n",
    "    stops_p1 = np.where(xadf == -1)[0]\n",
    "    lens = stops_p1 - starts\n",
    "    codes = states_full[0, starts]\n",
    "    trl = np.zeros((len(starts), 3))\n",
    "    start = 0\n",
    "    min_len = min(lens)\n",
    "    for i in range(0, len(lens)):\n",
    "        trl[i] = [start, 0, codes[i]]\n",
    "        start = start + lens[i]\n",
    "    return trl.astype(int)\n",
    "\n",
    "events = create_events(raw_events)"
   ]
  },
  {
   "cell_type": "code",
   "execution_count": 160,
   "metadata": {
    "collapsed": false
   },
   "outputs": [
    {
     "name": "stdout",
     "output_type": "stream",
     "text": [
      "{u'\\u043b\\u0435\\u0432\\u0430\\u044f': 1, u'\\u043e\\u0442\\u0434\\u044b\\u0445': 2, u'\\u043f\\u0440\\u0430\\u0432\\u0430\\u044f': 3}\n"
     ]
    }
   ],
   "source": [
    "def get_labels(labels_names):\n",
    "    labels = dict.fromkeys(labels_names)\n",
    "    for idx, i in enumerate(labels):\n",
    "        labels[i] = idx\n",
    "    labels.pop(u'удалено', None)\n",
    "    return labels\n",
    "\n",
    "labels = get_labels(raw['info'].labels_names)\n",
    "print labels\n",
    "\n",
    "epochs = mne.Epochs(raw_mne,events,event_id=labels,add_eeg_ref=False, preload = True, tmin = 0, tmax = 4.499, proj=False, decim=1)"
   ]
  },
  {
   "cell_type": "code",
   "execution_count": 161,
   "metadata": {
    "collapsed": false
   },
   "outputs": [
    {
     "data": {
      "text/plain": [
       "<Epochs  |  n_events : 45 (all good), tmin : 0.0 (s), tmax : 4.499 (s), baseline : (None, 0), ~46.4 MB, data loaded,\n",
       " u'\\u043b\\u0435\\u0432\\u0430\\u044f': 15, u'\\u043e\\u0442\\u0434\\u044b\\u0445': 15, u'\\u043f\\u0440\\u0430\\u0432\\u0430\\u044f': 15>"
      ]
     },
     "execution_count": 161,
     "metadata": {},
     "output_type": "execute_result"
    }
   ],
   "source": [
    "epochs"
   ]
  },
  {
   "cell_type": "code",
   "execution_count": 162,
   "metadata": {
    "collapsed": false
   },
   "outputs": [],
   "source": [
    "data_epochs = epochs.get_data()\n",
    "data_events = epochs.events"
   ]
  },
  {
   "cell_type": "code",
   "execution_count": 163,
   "metadata": {
    "collapsed": false
   },
   "outputs": [
    {
     "data": {
      "text/plain": [
       "(45L, 30L, 4500L)"
      ]
     },
     "execution_count": 163,
     "metadata": {},
     "output_type": "execute_result"
    }
   ],
   "source": [
    "data_epochs.shape"
   ]
  },
  {
   "cell_type": "code",
   "execution_count": 164,
   "metadata": {
    "collapsed": false
   },
   "outputs": [
    {
     "data": {
      "text/plain": [
       "array([ -1.40737825e-06,  -1.76597306e-06,  -2.11547823e-06,\n",
       "        -2.44756155e-06,  -2.75401991e-06])"
      ]
     },
     "execution_count": 164,
     "metadata": {},
     "output_type": "execute_result"
    }
   ],
   "source": [
    "data_epochs[0][0][200:205]"
   ]
  },
  {
   "cell_type": "code",
   "execution_count": 165,
   "metadata": {
    "collapsed": true
   },
   "outputs": [],
   "source": [
    "test = load(root + name,'exp_data_aligned.cls')"
   ]
  },
  {
   "cell_type": "code",
   "execution_count": 166,
   "metadata": {
    "collapsed": false
   },
   "outputs": [
    {
     "data": {
      "text/plain": [
       "4.2775411371365863e-06"
      ]
     },
     "execution_count": 166,
     "metadata": {},
     "output_type": "execute_result"
    }
   ],
   "source": [
    "test.getdata()['data']['data_train'][0][0][200]"
   ]
  },
  {
   "cell_type": "code",
   "execution_count": 167,
   "metadata": {
    "collapsed": false
   },
   "outputs": [
    {
     "data": {
      "text/plain": [
       "array([ -1.16324102e-10,  -9.74026060e-10,  -4.02917729e-09, ...,\n",
       "        -1.06943455e-06,  -4.77476051e-07,   9.94954702e-08])"
      ]
     },
     "execution_count": 167,
     "metadata": {},
     "output_type": "execute_result"
    }
   ],
   "source": [
    "raw_train[0]"
   ]
  },
  {
   "cell_type": "code",
   "execution_count": 168,
   "metadata": {
    "collapsed": false
   },
   "outputs": [
    {
     "data": {
      "text/plain": [
       "(array([0], dtype=int64), array([250], dtype=int64))"
      ]
     },
     "execution_count": 168,
     "metadata": {},
     "output_type": "execute_result"
    }
   ],
   "source": [
    "np.where(raw_train == test.getdata()['data']['data_train'][0][0][0])"
   ]
  },
  {
   "cell_type": "code",
   "execution_count": 169,
   "metadata": {
    "collapsed": false
   },
   "outputs": [
    {
     "data": {
      "text/plain": [
       "(array([], dtype=int64), array([], dtype=int64), array([], dtype=int64))"
      ]
     },
     "execution_count": 169,
     "metadata": {},
     "output_type": "execute_result"
    }
   ],
   "source": [
    "np.where(data_epochs == test.getdata()['data']['data_train'][0][0][0])"
   ]
  },
  {
   "cell_type": "code",
   "execution_count": 177,
   "metadata": {
    "collapsed": false
   },
   "outputs": [
    {
     "data": {
      "text/plain": [
       "array([  0.00000000e+00,  -8.57701958e-10,  -3.91285319e-09, ...,\n",
       "         3.57431608e-06,   3.74122967e-06,   3.83215316e-06])"
      ]
     },
     "execution_count": 177,
     "metadata": {},
     "output_type": "execute_result"
    }
   ],
   "source": [
    "data_epochs[0][0]"
   ]
  },
  {
   "cell_type": "code",
   "execution_count": 178,
   "metadata": {
    "collapsed": false
   },
   "outputs": [
    {
     "data": {
      "text/plain": [
       "-1.1632410239334387e-10"
      ]
     },
     "execution_count": 178,
     "metadata": {},
     "output_type": "execute_result"
    }
   ],
   "source": [
    "raw_train[0][0]"
   ]
  },
  {
   "cell_type": "code",
   "execution_count": 179,
   "metadata": {
    "collapsed": false
   },
   "outputs": [
    {
     "data": {
      "text/plain": [
       "(array([], dtype=int64), array([], dtype=int64), array([], dtype=int64))"
      ]
     },
     "execution_count": 179,
     "metadata": {},
     "output_type": "execute_result"
    }
   ],
   "source": [
    "np.where(data_epochs == raw_train[0][0])"
   ]
  },
  {
   "cell_type": "code",
   "execution_count": 181,
   "metadata": {
    "collapsed": false
   },
   "outputs": [
    {
     "data": {
      "text/plain": [
       "(45L, 30L, 4500L)"
      ]
     },
     "execution_count": 181,
     "metadata": {},
     "output_type": "execute_result"
    }
   ],
   "source": [
    "data_epochs.shape"
   ]
  },
  {
   "cell_type": "code",
   "execution_count": 186,
   "metadata": {
    "collapsed": false
   },
   "outputs": [
    {
     "data": {
      "text/plain": [
       "array([ 2.,  2.,  1.,  3.,  2.,  2.,  2.,  3.,  3.,  3.,  1.,  3.,  1.,\n",
       "        3.,  3.,  2.,  1.,  1.,  3.,  2.,  2.,  3.,  3.,  1.,  1.,  3.,\n",
       "        3.,  1.,  2.,  1.,  2.,  2.,  1.,  3.,  3.,  2.,  2.,  1.,  1.,\n",
       "        1.,  2.,  1.,  1.,  3.,  2.])"
      ]
     },
     "execution_count": 186,
     "metadata": {},
     "output_type": "execute_result"
    }
   ],
   "source": [
    "test.getdata()['data']['states_train']"
   ]
  },
  {
   "cell_type": "code",
   "execution_count": 187,
   "metadata": {
    "collapsed": true
   },
   "outputs": [],
   "source": [
    "import scipy.signal as spsig\n",
    "def data_prep(data, sfreq, fmin, fmax):\n",
    "    [b_high, a_high] = spsig.butter(4, float(fmin) / (sfreq / 2), 'high')\n",
    "    [b_low, a_low] = spsig.butter(4, float(fmax) / (sfreq / 2), 'low')\n",
    "\n",
    "    chunk_high = spsig.lfilter(b_high, a_high, data)\n",
    "    chunk_low = spsig.lfilter(b_low, a_low, chunk_high)\n",
    "    return chunk_low"
   ]
  },
  {
   "cell_type": "code",
   "execution_count": null,
   "metadata": {
    "collapsed": true
   },
   "outputs": [],
   "source": [
    "from sklearn.discriminant_analysis import LinearDiscriminantAnalysis\n",
    "from sklearn.pipeline import Pipeline\n",
    "from sklearn.metrics import accuracy_score\n",
    "from mne.decoding import CSP\n",
    "from sklearn.multiclass import OneVsRestClassifier\n",
    "\n",
    "Y_train = epochs.events[:,-1]\n",
    "X_train = epochs.get_data()\n",
    "X_train = data_prep(X_train, 1000, 6, 16)\n",
    "\n",
    "# train classifier\n",
    "svc = LinearDiscriminantAnalysis()\n",
    "csp = CSP(n_components=4, reg='ledoit_wolf', log=True)\n",
    "\n",
    "\n",
    "X_train = csp.fit_transform(X_train, Y_train)\n",
    "svc.fit(X_train, Y_train)\n",
    "\n",
    "LDA_scores = []\n",
    "for i in range(0, len(test_list)):\n",
    "    X_test = data_prep(test_list[i]['X_test'], 1000, 6, 16)\n",
    "    X_test = csp.transform(X_test)\n",
    "    LDA_scores.append(svc.score(X_test, test_list[i]['Y_test']))\n",
    "\n",
    "print \"MAX:\", np.max(LDA_scores)\n",
    "print \"MEAN:\", np.mean(LDA_scores)\n",
    "print \"MIN:\", np.min(LDA_scores)\n",
    "print \"DISP:\", np.std(LDA_scores)"
   ]
  }
 ],
 "metadata": {
  "kernelspec": {
   "display_name": "Python 2",
   "language": "python",
   "name": "python2"
  },
  "language_info": {
   "codemirror_mode": {
    "name": "ipython",
    "version": 2
   },
   "file_extension": ".py",
   "mimetype": "text/x-python",
   "name": "python",
   "nbconvert_exporter": "python",
   "pygments_lexer": "ipython2",
   "version": "2.7.13"
  }
 },
 "nbformat": 4,
 "nbformat_minor": 2
}
