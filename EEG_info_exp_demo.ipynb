{
 "cells": [
  {
   "cell_type": "code",
   "execution_count": 3,
   "metadata": {
    "collapsed": false
   },
   "outputs": [],
   "source": [
    "import pickle, os, glob\n",
    "from EEG.info import info_exp"
   ]
  },
  {
   "cell_type": "code",
   "execution_count": 4,
   "metadata": {
    "collapsed": false
   },
   "outputs": [],
   "source": [
    "root = \"C:\\\\eeg\\\\01exp\\\\\"\n",
    "name = \"20161209_KPS_001\""
   ]
  },
  {
   "cell_type": "code",
   "execution_count": 5,
   "metadata": {
    "collapsed": false
   },
   "outputs": [],
   "source": [
    "def save(path,name,data):\n",
    "    with open(path +'/'+ name, 'wb') as output:\n",
    "        pickle.dump(data, output, pickle.HIGHEST_PROTOCOL)\n",
    "        \n",
    "def load(path,name):\n",
    "    with open(path + '/' + name, 'rb') as input:\n",
    "        data = pickle.load(input)\n",
    "        return data"
   ]
  },
  {
   "cell_type": "code",
   "execution_count": 6,
   "metadata": {
    "collapsed": false
   },
   "outputs": [
    {
     "name": "stdout",
     "output_type": "stream",
     "text": [
      "=================================================================\n",
      "Experiment status:  True ; Num tests:  12\n",
      "Aligned:  False\n",
      "Respondent name:  Иван Иванов\n",
      "Description: Эксперимент с обратной связью\n",
      "Labels_names: [ шум, отдых, левая, правая ]\n",
      "Frequency: 1000\n",
      "------------------------------------------------------------------\n",
      "Chanels_names:\n",
      "------------------------------------------------------------------\n",
      "FC5        FT7        FC3        FCz        FC4        FT8       \n",
      "T3         C3         Cz         T4         C4        \n",
      "TP7        CP3        CPz        CP4        TP8       \n",
      "FC1        FC2        FC6        P4         C5        \n",
      "C1         C2         C6         P3         CP5       \n",
      "CP1        CP2        CP6        POz       \n",
      "------------------------------------------------------------------\n",
      "List tests\n",
      "------------------------------------------------------------------\n",
      "20161209_160300 20161209_160735 20161209_161428\n",
      "20161209_161755 20161209_162517\n",
      "20161209_163256 20161209_163711\n",
      "20161209_164052 20161209_164458\n",
      "20161209_164855 20161209_165224\n",
      "20161209_165624\n",
      "==================================================================\n"
     ]
    }
   ],
   "source": [
    "test = info_exp(root + name)\n",
    "test.resp_name = 'Иван Иванов'\n",
    "test.description = 'Эксперимент с обратной связью'\n",
    "test.labels_names = [u'шум', u'отдых', u'левая', u'правая']\n",
    "test.getinfo()"
   ]
  },
  {
   "cell_type": "code",
   "execution_count": 7,
   "metadata": {
    "collapsed": false
   },
   "outputs": [],
   "source": [
    "save(root + name,'info.dat',test)"
   ]
  },
  {
   "cell_type": "code",
   "execution_count": 8,
   "metadata": {
    "collapsed": false
   },
   "outputs": [],
   "source": [
    "eegtest = load(root + name,'info.dat')"
   ]
  },
  {
   "cell_type": "code",
   "execution_count": 9,
   "metadata": {
    "collapsed": false
   },
   "outputs": [
    {
     "name": "stdout",
     "output_type": "stream",
     "text": [
      "=================================================================\n",
      "Experiment status:  True ; Num tests:  12\n",
      "Aligned:  False\n",
      "Respondent name:  Иван Иванов\n",
      "Description: Эксперимент с обратной связью\n",
      "Labels_names: [ шум, отдых, левая, правая ]\n",
      "Frequency: 1000\n",
      "------------------------------------------------------------------\n",
      "Chanels_names:\n",
      "------------------------------------------------------------------\n",
      "FC5        FT7        FC3        FCz        FC4        FT8       \n",
      "T3         C3         Cz         T4         C4        \n",
      "TP7        CP3        CPz        CP4        TP8       \n",
      "FC1        FC2        FC6        P4         C5        \n",
      "C1         C2         C6         P3         CP5       \n",
      "CP1        CP2        CP6        POz       \n",
      "------------------------------------------------------------------\n",
      "List tests\n",
      "------------------------------------------------------------------\n",
      "20161209_160300 20161209_160735 20161209_161428\n",
      "20161209_161755 20161209_162517\n",
      "20161209_163256 20161209_163711\n",
      "20161209_164052 20161209_164458\n",
      "20161209_164855 20161209_165224\n",
      "20161209_165624\n",
      "==================================================================\n"
     ]
    }
   ],
   "source": [
    "eegtest.getinfo()"
   ]
  },
  {
   "cell_type": "code",
   "execution_count": null,
   "metadata": {
    "collapsed": true
   },
   "outputs": [],
   "source": []
  }
 ],
 "metadata": {
  "kernelspec": {
   "display_name": "Python 2",
   "language": "python",
   "name": "python2"
  }
 },
 "nbformat": 4,
 "nbformat_minor": 2
}
