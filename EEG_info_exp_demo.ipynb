{
 "cells": [
  {
   "cell_type": "code",
   "execution_count": 1,
   "metadata": {
    "collapsed": false
   },
   "outputs": [],
   "source": [
    "import pickle, os, glob\n",
    "from EEG.info import info_exp"
   ]
  },
  {
   "cell_type": "code",
   "execution_count": 2,
   "metadata": {
    "collapsed": false
   },
   "outputs": [],
   "source": [
    "root = \"C:\\\\eeg\\\\01exp\\\\\"\n",
    "name = \"20161210_GSH_001\""
   ]
  },
  {
   "cell_type": "code",
   "execution_count": 3,
   "metadata": {
    "collapsed": false
   },
   "outputs": [],
   "source": [
    "def save(path,name,data):\n",
    "    with open(path +'/'+ name, 'wb') as output:\n",
    "        pickle.dump(data, output, pickle.HIGHEST_PROTOCOL)\n",
    "        \n",
    "def load(path,name):\n",
    "    with open(path + '/' + name, 'rb') as input:\n",
    "        data = pickle.load(input)\n",
    "        return data"
   ]
  },
  {
   "cell_type": "code",
   "execution_count": 5,
   "metadata": {
    "collapsed": false
   },
   "outputs": [
    {
     "name": "stdout",
     "output_type": "stream",
     "text": [
      "=================================================================\n",
      "Experiment status:  True ; Num tests:  13\n",
      "Aligned:  False\n",
      "Respondent name:  Петр Савченко\n",
      "Description: Эксперимент с обратной связью\n",
      "Labels_names: [ шум, отдых, левая, правая ]\n",
      "Frequency: 1000\n",
      "Type_chanels: eeg  Montage: standard_1005\n",
      "------------------------------------------------------------------\n",
      "Chanels_names:\n",
      "------------------------------------------------------------------\n",
      "FC5        FT7        FC3        FCz        FC4        FT8       \n",
      "T3         C3         Cz         T4         C4        \n",
      "TP7        CP3        CPz        CP4        TP8       \n",
      "FC1        FC2        FC6        P4         C5        \n",
      "C1         C2         C6         P3         CP5       \n",
      "CP1        CP2        CP6        POz       \n",
      "------------------------------------------------------------------\n",
      "List tests\n",
      "------------------------------------------------------------------\n",
      "20161210_130306 20161210_130647 20161210_131416\n",
      "20161210_131726 20161210_132104\n",
      "20161210_132457 20161210_132836\n",
      "20161210_133156 20161210_133555\n",
      "20161210_133911 20161210_134231\n",
      "20161210_134600 20161210_164142\n",
      "\n",
      "==================================================================\n"
     ]
    }
   ],
   "source": [
    "test = info_exp(root + name)\n",
    "test.resp_name = 'Петр Савченко'\n",
    "test.description = 'Эксперимент с обратной связью'\n",
    "test.labels_names = [u'шум', u'левая', u'правая', u'покой']\n",
    "test.getinfo()\n",
    "test.save()"
   ]
  },
  {
   "cell_type": "code",
   "execution_count": 6,
   "metadata": {
    "collapsed": false
   },
   "outputs": [],
   "source": [
    "eegtest = load(root + name,'exp_info.dat')"
   ]
  },
  {
   "cell_type": "code",
   "execution_count": 7,
   "metadata": {
    "collapsed": false
   },
   "outputs": [
    {
     "name": "stdout",
     "output_type": "stream",
     "text": [
      "=================================================================\n",
      "Experiment status:  True ; Num tests:  13\n",
      "Aligned:  False\n",
      "Respondent name:  Петр Савченко\n",
      "Description: Эксперимент с обратной связью\n",
      "Labels_names: [ шум, отдых, левая, правая ]\n",
      "Frequency: 1000\n",
      "Type_chanels: eeg  Montage: standard_1005\n",
      "------------------------------------------------------------------\n",
      "Chanels_names:\n",
      "------------------------------------------------------------------\n",
      "FC5        FT7        FC3        FCz        FC4        FT8       \n",
      "T3         C3         Cz         T4         C4        \n",
      "TP7        CP3        CPz        CP4        TP8       \n",
      "FC1        FC2        FC6        P4         C5        \n",
      "C1         C2         C6         P3         CP5       \n",
      "CP1        CP2        CP6        POz       \n",
      "------------------------------------------------------------------\n",
      "List tests\n",
      "------------------------------------------------------------------\n",
      "20161210_130306 20161210_130647 20161210_131416\n",
      "20161210_131726 20161210_132104\n",
      "20161210_132457 20161210_132836\n",
      "20161210_133156 20161210_133555\n",
      "20161210_133911 20161210_134231\n",
      "20161210_134600 20161210_164142\n",
      "\n",
      "==================================================================\n"
     ]
    }
   ],
   "source": [
    "eegtest.getinfo()"
   ]
  },
  {
   "cell_type": "code",
   "execution_count": null,
   "metadata": {
    "collapsed": true
   },
   "outputs": [],
   "source": []
  }
 ],
 "metadata": {
  "kernelspec": {
   "display_name": "Python 2",
   "language": "python",
   "name": "python2"
  },
  "language_info": {
   "codemirror_mode": {
    "name": "ipython",
    "version": 2
   },
   "file_extension": ".py",
   "mimetype": "text/x-python",
   "name": "python",
   "nbconvert_exporter": "python",
   "pygments_lexer": "ipython2",
   "version": "2.7.13"
  }
 },
 "nbformat": 4,
 "nbformat_minor": 2
}
