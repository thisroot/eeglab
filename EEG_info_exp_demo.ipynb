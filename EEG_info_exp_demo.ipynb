{
 "cells": [
  {
   "cell_type": "code",
   "execution_count": 65,
   "metadata": {
    "collapsed": false
   },
   "outputs": [],
   "source": [
    "import pickle, os, glob\n",
    "from EEG.info import info_exp"
   ]
  },
  {
   "cell_type": "code",
   "execution_count": 66,
   "metadata": {
    "collapsed": false
   },
   "outputs": [],
   "source": [
    "root = \"C:\\\\eeg\\\\02exp\\\\\"\n",
    "name = \"20170220_ITV_002\""
   ]
  },
  {
   "cell_type": "code",
   "execution_count": 67,
   "metadata": {
    "collapsed": false
   },
   "outputs": [],
   "source": [
    "def save(path,name,data):\n",
    "    with open(path +'/'+ name, 'wb') as output:\n",
    "        pickle.dump(data, output, pickle.HIGHEST_PROTOCOL)\n",
    "        \n",
    "def load(path,name):\n",
    "    with open(path + '/' + name, 'rb') as input:\n",
    "        data = pickle.load(input)\n",
    "        return data"
   ]
  },
  {
   "cell_type": "code",
   "execution_count": 68,
   "metadata": {
    "collapsed": false
   },
   "outputs": [
    {
     "name": "stdout",
     "output_type": "stream",
     "text": [
      "=================================================================\n",
      "Experiment status:  False ; Num tests:  6\n",
      "Aligned:  False\n",
      "------------------------------------------------------------------\n",
      "Ошибки сборки: \n",
      "не пройдена проверка на наличие всех файлов\n",
      "------------------------------------------------------------------\n",
      "Respondent name:  Василий Петров\n",
      "Description: Эксперимент с обратной связью\n",
      "Labels_names: [ шум, отдых, левая, правая ]\n",
      "Frequency: 1000\n",
      "------------------------------------------------------------------\n",
      "Chanels_names:\n",
      "------------------------------------------------------------------\n",
      "FC5        FT7        FC3        FCz        FC4        FT8       \n",
      "T3         C3         Cz         T4         C4        \n",
      "TP7        CP3        CPz        CP4        TP8       \n",
      "FC1        FC2        FC6        P4         C5        \n",
      "C1         C2         C6         P3         CP5       \n",
      "CP1        CP2        CP6        POz       \n",
      "------------------------------------------------------------------\n",
      "List tests\n",
      "------------------------------------------------------------------\n",
      "20170220_160716 20170220_161539 20170220_162055\n",
      "20170220_162808 20170220_163434\n",
      "20170220_163930\n",
      "==================================================================\n"
     ]
    }
   ],
   "source": [
    "test = info_exp(root + name)\n",
    "test.resp_name = 'Василий Петров'\n",
    "test.description = 'Эксперимент с обратной связью'\n",
    "test.labels_names = [u'шум', u'отдых', u'левая', u'правая']\n",
    "test.getinfo()\n",
    "test.save()"
   ]
  },
  {
   "cell_type": "code",
   "execution_count": 38,
   "metadata": {
    "collapsed": false
   },
   "outputs": [],
   "source": [
    "eegtest = load(root + name,'exp_info.dat')"
   ]
  },
  {
   "cell_type": "code",
   "execution_count": 39,
   "metadata": {
    "collapsed": false
   },
   "outputs": [
    {
     "name": "stdout",
     "output_type": "stream",
     "text": [
      "=================================================================\n",
      "Experiment status:  True ; Num tests:  6\n",
      "Aligned:  False\n",
      "Respondent name:  Евгений Петров\n",
      "Description: Эксперимент с обратной связью\n",
      "Labels_names: [ шум, отдых, левая, правая ]\n",
      "Frequency: 1000\n",
      "------------------------------------------------------------------\n",
      "Chanels_names:\n",
      "------------------------------------------------------------------\n",
      "FC5        FT7        FC3        FCz        FC4        FT8       \n",
      "T3         C3         Cz         T4         C4        \n",
      "TP7        CP3        CPz        CP4        TP8       \n",
      "FC1        FC2        FC6        P4         C5        \n",
      "C1         C2         C6         P3         CP5       \n",
      "CP1        CP2        CP6        POz       \n",
      "------------------------------------------------------------------\n",
      "List tests\n",
      "------------------------------------------------------------------\n",
      "20170222_155713 20170222_160418 20170222_161222\n",
      "20170222_161834 20170222_162400\n",
      "20170222_162856\n",
      "==================================================================\n"
     ]
    }
   ],
   "source": [
    "eegtest.getinfo()"
   ]
  },
  {
   "cell_type": "code",
   "execution_count": null,
   "metadata": {
    "collapsed": true
   },
   "outputs": [],
   "source": []
  }
 ],
 "metadata": {
  "kernelspec": {
   "display_name": "Python 2",
   "language": "python",
   "name": "python2"
  },
  "language_info": {
   "codemirror_mode": {
    "name": "ipython",
    "version": 2
   },
   "file_extension": ".py",
   "mimetype": "text/x-python",
   "name": "python",
   "nbconvert_exporter": "python",
   "pygments_lexer": "ipython2",
   "version": "2.7.13"
  }
 },
 "nbformat": 4,
 "nbformat_minor": 2
}
