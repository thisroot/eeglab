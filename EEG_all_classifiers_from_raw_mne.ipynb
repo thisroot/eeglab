{
 "cells": [
  {
   "cell_type": "code",
   "execution_count": 2,
   "metadata": {
    "collapsed": false
   },
   "outputs": [],
   "source": [
    "%matplotlib inline\n",
    "\n",
    "import warnings\n",
    "#warnings.filterwarnings('ignore')\n",
    "import pickle, os, glob\n",
    "from EEG.info import info_exp\n",
    "from EEG.converter import converter_mne\n",
    "import mne\n",
    "import numpy as np\n",
    "import sys"
   ]
  },
  {
   "cell_type": "code",
   "execution_count": 3,
   "metadata": {
    "collapsed": true
   },
   "outputs": [],
   "source": [
    "root = \"C:\\\\eeg\\\\01exp\\\\\"\n",
    "name = \"20161129_DBS_001\"\n",
    "\n",
    "def load(path,name):\n",
    "    with open(path + '/' + name, 'rb') as input:\n",
    "        data = pickle.load(input)\n",
    "        return data"
   ]
  },
  {
   "cell_type": "code",
   "execution_count": 4,
   "metadata": {
    "collapsed": false
   },
   "outputs": [],
   "source": [
    "test = load(root + name,'exp_data_aligned.cls')"
   ]
  },
  {
   "cell_type": "code",
   "execution_count": 5,
   "metadata": {
    "collapsed": false
   },
   "outputs": [
    {
     "name": "stdout",
     "output_type": "stream",
     "text": [
      "=================================================================\n",
      "Experiment status:  True ; Num tests:  12\n",
      "Align status:  True\n",
      "Respondent name:  Ольга Ветрова\n",
      "Description: Эксперимент с обратной связью\n",
      "Labels_names: [ удалено, отдых, левая, правая ]\n",
      "Frequency: 1000\n",
      "Count train activities:  45\n",
      "Count tests activities: [ 30, 30, 30, 30, 30, 30, 30, 30, 30, 30, 30, 30 ]\n",
      "Time of activity: 4500\n",
      "Type_chanels: eeg  Montage: standard_1005\n",
      "------------------------------------------------------------------\n",
      "Chanels_names:\n",
      "------------------------------------------------------------------\n",
      "FC5        FT7        FC3        FCz        FC4        FT8       \n",
      "T3         C3         Cz         T4         C4        \n",
      "TP7        CP3        CPz        CP4        TP8       \n",
      "FC1        FC2        FC6        P4         C5        \n",
      "C1         C2         C6         P3         CP5       \n",
      "CP1        CP2        CP6        POz       \n",
      "------------------------------------------------------------------\n",
      "List tests\n",
      "------------------------------------------------------------------\n",
      "20161129_173025 20161129_173919 20161129_174505\n",
      "20161129_175011 20161129_175517\n",
      "20161129_180043 20161129_180632\n",
      "20161129_181557 20161129_182114\n",
      "20161129_182715 20161129_183224\n",
      "20161129_183740\n",
      "==================================================================\n"
     ]
    }
   ],
   "source": [
    "test.getinfo()"
   ]
  },
  {
   "cell_type": "code",
   "execution_count": 6,
   "metadata": {
    "collapsed": false,
    "scrolled": true
   },
   "outputs": [
    {
     "name": "stdout",
     "output_type": "stream",
     "text": [
      "Creating RawArray with float64 data, n_channels=30, n_times=202500\n",
      "    Range : 0 ... 202499 =      0.000 ...   202.499 secs\n",
      "Ready.\n",
      "Applying a custom EEG reference.\n",
      "45 matching events found\n",
      "0 projection items activated\n",
      "Loading data for 45 events and 4500 original time points ...\n",
      "0 bad epochs dropped\n",
      "Creating RawArray with float64 data, n_channels=30, n_times=202500\n",
      "    Range : 0 ... 202499 =      0.000 ...   202.499 secs\n",
      "Ready.\n",
      "Applying a custom EEG reference.\n",
      "Setting up band-pass filter from 6 - 16 Hz\n",
      "l_trans_bandwidth chosen to be 2.0 Hz\n",
      "h_trans_bandwidth chosen to be 4.0 Hz\n",
      "Filter length of 3300 samples (3.300 sec) selected\n"
     ]
    },
    {
     "data": {
      "text/plain": [
       "<RawArray  |  None, n_channels x n_times : 30 x 202500 (202.5 sec), ~46.4 MB, data loaded>"
      ]
     },
     "execution_count": 6,
     "metadata": {},
     "output_type": "execute_result"
    }
   ],
   "source": [
    "data  = converter_mne(test)\n",
    "epochs = data.train_epochs()\n",
    "raw = data.train_raw()\n",
    "raw.filter(6,16,phase='zero',filter_length='auto', fir_window='hamming',l_trans_bandwidth='auto', h_trans_bandwidth='auto')"
   ]
  },
  {
   "cell_type": "code",
   "execution_count": 7,
   "metadata": {
    "collapsed": false
   },
   "outputs": [
    {
     "data": {
      "image/png": "[encoded data removed]",
      "text/plain": [
       "<matplotlib.figure.Figure at 0xaf66240>"
      ]
     },
     "metadata": {},
     "output_type": "display_data"
    },
    {
     "name": "stdout",
     "output_type": "stream",
     "text": [
      "Figure(432x288)\n"
     ]
    }
   ],
   "source": [
    "print epochs.plot_psd(area_mode='range', tmax=4.499,fmax=50.)"
   ]
  },
  {
   "cell_type": "code",
   "execution_count": 8,
   "metadata": {
    "collapsed": false
   },
   "outputs": [
    {
     "data": {
      "image/png": "[encoded data removed]",
      "text/plain": [
       "<matplotlib.figure.Figure at 0xaf661d0>"
      ]
     },
     "metadata": {},
     "output_type": "display_data"
    },
    {
     "name": "stdout",
     "output_type": "stream",
     "text": [
      "Figure(720x108)\n"
     ]
    }
   ],
   "source": [
    "print epochs.plot_psd_topomap()\n",
    "picks = mne.pick_types(info=data.mne_info(), meg=False, eeg=True, misc=False)"
   ]
  },
  {
   "cell_type": "code",
   "execution_count": 9,
   "metadata": {
    "collapsed": false
   },
   "outputs": [],
   "source": [
    "mne.set_log_level(verbose = \"ERROR\")\n",
    "# get test list\n",
    "test_list = []\n",
    "for i in range(0,data.num_tests):\n",
    "    epochs_test = data.test_epochs(i)\n",
    "    Y_test = epochs_test.events[:,-1]\n",
    "    X_test = epochs_test.get_data()\n",
    "    test_list.append({'Y_test':Y_test,'X_test':X_test})"
   ]
  },
  {
   "cell_type": "code",
   "execution_count": 10,
   "metadata": {
    "collapsed": false
   },
   "outputs": [],
   "source": [
    "import scipy.signal as spsig\n",
    "def data_prep(data, sfreq, fmin, fmax):\n",
    "    [b_high, a_high] = spsig.butter(4, float(fmin) / (sfreq / 2), 'high')\n",
    "    [b_low, a_low] = spsig.butter(4, float(fmax) / (sfreq / 2), 'low')\n",
    "\n",
    "    chunk_high = spsig.lfilter(b_high, a_high, data)\n",
    "    chunk_low = spsig.lfilter(b_low, a_low, chunk_high)\n",
    "    return chunk_low"
   ]
  },
  {
   "cell_type": "markdown",
   "metadata": {},
   "source": [
    "## LDA Classifier"
   ]
  },
  {
   "cell_type": "code",
   "execution_count": 11,
   "metadata": {
    "collapsed": false
   },
   "outputs": [
    {
     "name": "stdout",
     "output_type": "stream",
     "text": [
      "MAX: 1.0\n",
      "MEAN: 0.802777777778\n",
      "MIN: 0.566666666667\n",
      "DISP: 0.129427752858\n"
     ]
    }
   ],
   "source": [
    "from sklearn.discriminant_analysis import LinearDiscriminantAnalysis\n",
    "from sklearn.pipeline import Pipeline\n",
    "from sklearn.metrics import accuracy_score\n",
    "from mne.decoding import CSP\n",
    "\n",
    "Y_train = epochs.events[:,-1]\n",
    "X_train = epochs.get_data()\n",
    "X_train = data_prep(X_train, 1000, 6, 16)\n",
    "\n",
    "# train classifier\n",
    "svc = LinearDiscriminantAnalysis()\n",
    "csp = CSP(n_components=4, reg='ledoit_wolf', log=True)\n",
    "\n",
    "\n",
    "X_train = csp.fit_transform(X_train, Y_train)\n",
    "svc.fit(X_train, Y_train)\n",
    "\n",
    "LDA_scores = []\n",
    "for i in range(0, len(test_list)):\n",
    "    X_test = data_prep(test_list[i]['X_test'], 1000, 6, 16)\n",
    "    X_test = csp.transform(X_test)\n",
    "    LDA_scores.append(svc.score(X_test, test_list[i]['Y_test']))\n",
    "\n",
    "print \"MAX:\", np.max(LDA_scores)\n",
    "print \"MEAN:\", np.mean(LDA_scores)\n",
    "print \"MIN:\", np.min(LDA_scores)\n",
    "print \"DISP:\", np.std(LDA_scores)"
   ]
  },
  {
   "cell_type": "markdown",
   "metadata": {},
   "source": [
    "## Naive Bayes"
   ]
  },
  {
   "cell_type": "code",
   "execution_count": 12,
   "metadata": {
    "collapsed": false
   },
   "outputs": [
    {
     "name": "stdout",
     "output_type": "stream",
     "text": [
      "MAX: 1.0\n",
      "MEAN: 0.802777777778\n",
      "MIN: 0.533333333333\n",
      "DISP: 0.136394263302\n"
     ]
    }
   ],
   "source": [
    "from sklearn.naive_bayes import GaussianNB\n",
    "\n",
    "Y_train = epochs.events[:,-1]\n",
    "X_train = epochs.get_data()\n",
    "X_train = data_prep(X_train, 1000, 6, 16)\n",
    "\n",
    "# train classifier\n",
    "svc = GaussianNB()\n",
    "csp = CSP(n_components=4, reg='ledoit_wolf', log=True)\n",
    "\n",
    "\n",
    "X_train = csp.fit_transform(X_train, Y_train)\n",
    "svc.fit(X_train, Y_train)\n",
    "\n",
    "Bayes_scores = []\n",
    "for i in range(0, len(test_list)):\n",
    "    X_test = data_prep(test_list[i]['X_test'], 1000, 6, 16)\n",
    "    X_test = csp.transform(X_test)\n",
    "    Bayes_scores.append(svc.score(X_test, test_list[i]['Y_test']))\n",
    "\n",
    "print \"MAX:\", np.max(Bayes_scores)\n",
    "print \"MEAN:\", np.mean(Bayes_scores)\n",
    "print \"MIN:\", np.min(Bayes_scores)\n",
    "print \"DISP:\", np.std(Bayes_scores)"
   ]
  },
  {
   "cell_type": "markdown",
   "metadata": {},
   "source": [
    "## K-nearest neighbours"
   ]
  },
  {
   "cell_type": "code",
   "execution_count": 13,
   "metadata": {
    "collapsed": false
   },
   "outputs": [
    {
     "name": "stdout",
     "output_type": "stream",
     "text": [
      "MAX: 0.966666666667\n",
      "MEAN: 0.866666666667\n",
      "MIN: 0.766666666667\n",
      "DISP: 0.0561083607687\n"
     ]
    }
   ],
   "source": [
    "from sklearn.neighbors import KNeighborsClassifier\n",
    "\n",
    "Y_train = epochs.events[:,-1]\n",
    "X_train = epochs.get_data()\n",
    "X_train = data_prep(X_train, 1000, 6, 16)\n",
    "\n",
    "# train classifier\n",
    "svc = KNeighborsClassifier()\n",
    "csp = CSP(n_components=4, reg='ledoit_wolf', log=True)\n",
    "\n",
    "\n",
    "X_train = csp.fit_transform(X_train, Y_train)\n",
    "svc.fit(X_train, Y_train)\n",
    "\n",
    "KNN_scores = []\n",
    "for i in range(0, len(test_list)):\n",
    "    X_test = data_prep(test_list[i]['X_test'], 1000, 6, 16)\n",
    "    X_test = csp.transform(X_test)\n",
    "    KNN_scores.append(svc.score(X_test, test_list[i]['Y_test']))\n",
    "\n",
    "print \"MAX:\", np.max(KNN_scores)\n",
    "print \"MEAN:\", np.mean(KNN_scores)\n",
    "print \"MIN:\", np.min(KNN_scores)\n",
    "print \"DISP:\", np.std(KNN_scores)"
   ]
  },
  {
   "cell_type": "markdown",
   "metadata": {},
   "source": [
    "## Classification and Regression Trees"
   ]
  },
  {
   "cell_type": "code",
   "execution_count": 14,
   "metadata": {
    "collapsed": false
   },
   "outputs": [
    {
     "name": "stdout",
     "output_type": "stream",
     "text": [
      "MAX: 0.933333333333\n",
      "MEAN: 0.786111111111\n",
      "MIN: 0.6\n",
      "DISP: 0.0957024065386\n"
     ]
    }
   ],
   "source": [
    "from sklearn.tree import DecisionTreeClassifier\n",
    "\n",
    "Y_train = epochs.events[:,-1]\n",
    "X_train = epochs.get_data()\n",
    "X_train = data_prep(X_train, 1000, 6, 16)\n",
    "\n",
    "# train classifier\n",
    "svc = DecisionTreeClassifier()\n",
    "csp = CSP(n_components=4, reg='ledoit_wolf', log=True)\n",
    "\n",
    "\n",
    "X_train = csp.fit_transform(X_train, Y_train)\n",
    "svc.fit(X_train, Y_train)\n",
    "\n",
    "Trees_scores = []\n",
    "for i in range(0, len(test_list)):\n",
    "    X_test = data_prep(test_list[i]['X_test'], 1000, 6, 16)\n",
    "    X_test = csp.transform(X_test)\n",
    "    Trees_scores.append(svc.score(X_test, test_list[i]['Y_test']))\n",
    "\n",
    "print \"MAX:\", np.max(Trees_scores)\n",
    "print \"MEAN:\", np.mean(Trees_scores)\n",
    "print \"MIN:\", np.min(Trees_scores)\n",
    "print \"DISP:\", np.std(Trees_scores)"
   ]
  },
  {
   "cell_type": "markdown",
   "metadata": {},
   "source": [
    "## SVM (Support Vector Machines)"
   ]
  },
  {
   "cell_type": "code",
   "execution_count": 15,
   "metadata": {
    "collapsed": false
   },
   "outputs": [
    {
     "name": "stdout",
     "output_type": "stream",
     "text": [
      "MAX: 1.0\n",
      "MEAN: 0.844444444444\n",
      "MIN: 0.666666666667\n",
      "DISP: 0.109994388185\n"
     ]
    }
   ],
   "source": [
    "from sklearn.svm import SVC\n",
    "\n",
    "Y_train = epochs.events[:,-1]\n",
    "X_train = epochs.get_data()\n",
    "X_train = data_prep(X_train, 1000, 6, 16)\n",
    "\n",
    "# train classifier\n",
    "svc = SVC()\n",
    "csp = CSP(n_components=4, reg='ledoit_wolf', log=True)\n",
    "\n",
    "\n",
    "X_train = csp.fit_transform(X_train, Y_train)\n",
    "svc.fit(X_train, Y_train)\n",
    "\n",
    "SVM_scores = []\n",
    "for i in range(0, len(test_list)):\n",
    "    X_test = data_prep(test_list[i]['X_test'], 1000, 6, 16)\n",
    "    X_test = csp.transform(X_test)\n",
    "    SVM_scores.append(svc.score(X_test, test_list[i]['Y_test']))\n",
    "\n",
    "print \"MAX:\", np.max(SVM_scores)\n",
    "print \"MEAN:\", np.mean(SVM_scores)\n",
    "print \"MIN:\", np.min(SVM_scores)\n",
    "print \"DISP:\", np.std(SVM_scores)"
   ]
  },
  {
   "cell_type": "markdown",
   "metadata": {},
   "source": [
    "## Neural Network"
   ]
  },
  {
   "cell_type": "code",
   "execution_count": 21,
   "metadata": {
    "collapsed": false
   },
   "outputs": [
    {
     "name": "stdout",
     "output_type": "stream",
     "text": [
      "MAX: 0.933333333333\n",
      "MEAN: 0.783333333333\n",
      "MIN: 0.6\n",
      "DISP: 0.102288625775\n"
     ]
    }
   ],
   "source": [
    "from sklearn.neural_network import MLPClassifier\n",
    "\n",
    "Y_train = epochs.events[:,-1]\n",
    "X_train = epochs.get_data()\n",
    "X_train = data_prep(X_train, 1000, 6, 16)\n",
    "\n",
    "# train classifier\n",
    "svc = MLPClassifier(solver='lbfgs', alpha=1e-5, hidden_layer_sizes=(8, 15), random_state=1)\n",
    "csp = CSP(n_components=4, reg='ledoit_wolf', log=True)\n",
    "\n",
    "\n",
    "X_train = csp.fit_transform(X_train, Y_train)\n",
    "svc.fit(X_train, Y_train)\n",
    "\n",
    "NN_scores = []\n",
    "for i in range(0, len(test_list)):\n",
    "    X_test = data_prep(test_list[i]['X_test'], 1000, 6, 16)\n",
    "    X_test = csp.transform(X_test)\n",
    "    NN_scores.append(svc.score(X_test, test_list[i]['Y_test']))\n",
    "\n",
    "print \"MAX:\", np.max(NN_scores)\n",
    "print \"MEAN:\", np.mean(NN_scores)\n",
    "print \"MIN:\", np.min(NN_scores)\n",
    "print \"DISP:\", np.std(NN_scores)"
   ]
  },
  {
   "cell_type": "markdown",
   "metadata": {
    "collapsed": true
   },
   "source": [
    "## Logistic Regression"
   ]
  },
  {
   "cell_type": "code",
   "execution_count": 17,
   "metadata": {
    "collapsed": false
   },
   "outputs": [
    {
     "name": "stdout",
     "output_type": "stream",
     "text": [
      "MAX: 0.966666666667\n",
      "MEAN: 0.727777777778\n",
      "MIN: 0.6\n",
      "DISP: 0.112079116677\n"
     ]
    }
   ],
   "source": [
    "from sklearn.linear_model import LogisticRegression\n",
    "\n",
    "Y_train = epochs.events[:,-1]\n",
    "X_train = epochs.get_data()\n",
    "X_train = data_prep(X_train, 1000, 6, 16)\n",
    "\n",
    "# train classifier\n",
    "svc = LogisticRegression()\n",
    "csp = CSP(n_components=4, reg='ledoit_wolf', log=True)\n",
    "\n",
    "\n",
    "X_train = csp.fit_transform(X_train, Y_train)\n",
    "svc.fit(X_train, Y_train)\n",
    "\n",
    "NN_scores = []\n",
    "for i in range(0, len(test_list)):\n",
    "    X_test = data_prep(test_list[i]['X_test'], 1000, 6, 16)\n",
    "    X_test = csp.transform(X_test)\n",
    "    NN_scores.append(svc.score(X_test, test_list[i]['Y_test']))\n",
    "\n",
    "print \"MAX:\", np.max(NN_scores)\n",
    "print \"MEAN:\", np.mean(NN_scores)\n",
    "print \"MIN:\", np.min(NN_scores)\n",
    "print \"DISP:\", np.std(NN_scores)"
   ]
  },
  {
   "cell_type": "code",
   "execution_count": 20,
   "metadata": {
    "collapsed": false
   },
   "outputs": [
    {
     "name": "stdout",
     "output_type": "stream",
     "text": [
      "MAX: 0.966666666667\n",
      "MEAN: 0.727777777778\n",
      "MIN: 0.6\n",
      "DISP: 0.112079116677\n"
     ]
    }
   ],
   "source": [
    "from skrvm import RVC\n",
    "\n",
    "Y_train = epochs.events[:,-1]\n",
    "X_train = epochs.get_data()\n",
    "X_train = data_prep(X_train, 1000, 6, 16)\n",
    "\n",
    "# train classifier\n",
    "svc = RVC(alpha=1e-06, beta=1e-06, beta_fixed=False, bias_used=True, coef0=0.0,\n",
    "coef1=None, degree=3, kernel='rbf', n_iter=3000, n_iter_posterior=50,\n",
    "threshold_alpha=1000000000.0, tol=0.001, verbose=False)\n",
    "csp = CSP(n_components=4, reg='ledoit_wolf', log=True)\n",
    "\n",
    "\n",
    "X_train = csp.fit_transform(X_train, Y_train)\n",
    "svc.fit(X_train, Y_train)\n",
    "\n",
    "RVC_scores = []\n",
    "for i in range(0, len(test_list)):\n",
    "    X_test = data_prep(test_list[i]['X_test'], 1000, 6, 16)\n",
    "    X_test = csp.transform(X_test)\n",
    "    RVC_scores.append(svc.score(X_test, test_list[i]['Y_test']))\n",
    "\n",
    "print \"MAX:\", np.max(NN_scores)\n",
    "print \"MEAN:\", np.mean(NN_scores)\n",
    "print \"MIN:\", np.min(NN_scores)\n",
    "print \"DISP:\", np.std(NN_scores)"
   ]
  },
  {
   "cell_type": "code",
   "execution_count": null,
   "metadata": {
    "collapsed": true
   },
   "outputs": [],
   "source": []
  }
 ],
 "metadata": {
  "kernelspec": {
   "display_name": "Python 2",
   "language": "python",
   "name": "python2"
  },
  "language_info": {
   "codemirror_mode": {
    "name": "ipython",
    "version": 2
   },
   "file_extension": ".py",
   "mimetype": "text/x-python",
   "name": "python",
   "nbconvert_exporter": "python",
   "pygments_lexer": "ipython2",
   "version": "2.7.13"
  }
 },
 "nbformat": 4,
 "nbformat_minor": 2
}
