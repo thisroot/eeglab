{
 "cells": [
  {
   "cell_type": "code",
   "execution_count": 1,
   "metadata": {
    "collapsed": false
   },
   "outputs": [],
   "source": [
    "from EEG.preprocessing import aligner_exp"
   ]
  },
  {
   "cell_type": "code",
   "execution_count": 3,
   "metadata": {
    "collapsed": false
   },
   "outputs": [
    {
     "name": "stdout",
     "output_type": "stream",
     "text": [
      "True\n",
      "=================================================================\n",
      "Experiment status:  True ; Num tests:  12\n",
      "Align status:  True\n",
      "Respondent name:  Ольга Ветрова\n",
      "Description: Эксперимент с обратной связью\n",
      "Labels_names: [ удалено, отдых, левая, правая ]\n",
      "Frequency: 1000\n",
      "Count train activities:  45\n",
      "Count tests activities: [ 30, 30, 30, 30, 30, 30, 30, 30, 30, 30, 30, 30 ]\n",
      "Time of activity: 4500\n",
      "Type_chanels: eeg  Montage: standard_1005\n",
      "------------------------------------------------------------------\n",
      "Chanels_names:\n",
      "------------------------------------------------------------------\n",
      "FC5        FT7        FC3        FCz        FC4        FT8       \n",
      "T3         C3         Cz         T4         C4        \n",
      "TP7        CP3        CPz        CP4        TP8       \n",
      "FC1        FC2        FC6        P4         C5        \n",
      "C1         C2         C6         P3         CP5       \n",
      "CP1        CP2        CP6        POz       \n",
      "------------------------------------------------------------------\n",
      "List tests\n",
      "------------------------------------------------------------------\n",
      "20161129_173025 20161129_173919 20161129_174505\n",
      "20161129_175011 20161129_175517\n",
      "20161129_180043 20161129_180632\n",
      "20161129_181557 20161129_182114\n",
      "20161129_182715 20161129_183224\n",
      "20161129_183740\n",
      "==================================================================\n"
     ]
    }
   ],
   "source": [
    "root = \"C:\\\\eeg\\\\01exp\\\\\"\n",
    "name = \"20161129_DBS_001\"\n",
    "\n",
    "test = aligner_exp(root + name)\n",
    "flag = test.align(250,250)\n",
    "\n",
    "print flag\n",
    "test.getinfo()\n",
    "test.save(mode = 'data')"
   ]
  },
  {
   "cell_type": "code",
   "execution_count": 3,
   "metadata": {
    "collapsed": false
   },
   "outputs": [
    {
     "name": "stdout",
     "output_type": "stream",
     "text": [
      "False\n",
      "=================================================================\n",
      "Experiment status:  False ; Num tests:  0\n",
      "Align status:  False\n",
      "------------------------------------------------------------------\n",
      "Ошибки сборки: \n",
      "не пройдена проверка на наличие всех файлов\n",
      "не пройдена проверка на наличие всех файлов\n",
      "не пройдена проверка на наличие всех файлов\n",
      "не пройдена проверка на наличие всех файлов\n",
      "не пройдена проверка на наличие всех файлов\n",
      "не пройдена проверка на наличие всех файлов\n",
      "не пройдена проверка на наличие всех файлов\n",
      "не пройдена проверка на наличие всех файлов\n",
      "не пройдена проверка на наличие всех файлов\n",
      "не пройдена проверка на наличие всех файлов\n",
      "не пройдена проверка на наличие всех файлов\n",
      "не пройдена проверка на наличие всех файлов\n",
      "не пройдена проверка на наличие всех файлов\n",
      "\n",
      "------------------------------------------------------------------\n"
     ]
    }
   ],
   "source": [
    "name = \"20161105_OLT_001\"\n",
    "\n",
    "test = aligner_exp(root + name)\n",
    "flag = test.align(250,250)\n",
    "\n",
    "print flag\n",
    "test.getinfo()\n",
    "test.save()"
   ]
  },
  {
   "cell_type": "code",
   "execution_count": 12,
   "metadata": {
    "collapsed": false
   },
   "outputs": [
    {
     "ename": "TypeError",
     "evalue": "'module' object is not callable",
     "output_type": "error",
     "traceback": [
      "\u001b[0;31m---------------------------------------------------------------------------\u001b[0m",
      "\u001b[0;31mTypeError\u001b[0m                                 Traceback (most recent call last)",
      "\u001b[0;32m<ipython-input-12-a2d1525961d2>\u001b[0m in \u001b[0;36m<module>\u001b[0;34m()\u001b[0m\n\u001b[1;32m      1\u001b[0m \u001b[1;32mimport\u001b[0m \u001b[0mnumpy\u001b[0m \u001b[1;32mas\u001b[0m \u001b[0mnp\u001b[0m\u001b[1;33m\u001b[0m\u001b[0m\n\u001b[0;32m----> 2\u001b[0;31m \u001b[0ma\u001b[0m\u001b[1;33m=\u001b[0m\u001b[0mnp\u001b[0m\u001b[1;33m.\u001b[0m\u001b[0mrandom\u001b[0m\u001b[1;33m(\u001b[0m\u001b[1;33m(\u001b[0m\u001b[1;36m2\u001b[0m\u001b[1;33m,\u001b[0m\u001b[1;36m3\u001b[0m\u001b[1;33m,\u001b[0m\u001b[1;36m5\u001b[0m\u001b[1;33m)\u001b[0m\u001b[1;33m)\u001b[0m\u001b[1;33m\u001b[0m\u001b[0m\n\u001b[0m",
      "\u001b[0;31mTypeError\u001b[0m: 'module' object is not callable"
     ]
    }
   ],
   "source": [
    "import numpy as np\n",
    "a=np.random((2,3,5))"
   ]
  },
  {
   "cell_type": "code",
   "execution_count": 85,
   "metadata": {
    "collapsed": false
   },
   "outputs": [
    {
     "name": "stdout",
     "output_type": "stream",
     "text": [
      "[[[ 0  1  2  3  4  5  6  7]\n",
      "  [ 8  9 10 11 12 13 14 15]\n",
      "  [16 17 18 19 20 21 22 23]\n",
      "  [24 25 26 27 28 29 30 31]]\n",
      "\n",
      " [[32 33 34 35 36 37 38 39]\n",
      "  [40 41 42 43 44 45 46 47]\n",
      "  [48 49 50 51 52 53 54 55]\n",
      "  [56 57 58 59 60 61 62 63]]]\n"
     ]
    }
   ],
   "source": [
    "x,y,z = 2,4,8\n",
    "a=np.arange(x*y*z).reshape(2,4,8)\n",
    "print a"
   ]
  },
  {
   "cell_type": "code",
   "execution_count": 106,
   "metadata": {
    "collapsed": false
   },
   "outputs": [
    {
     "name": "stdout",
     "output_type": "stream",
     "text": [
      "row2:  [0 1 2 3 4 5 6 7]\n",
      "row2:  [ 8  9 10 11 12 13 14 15]\n",
      "row2:  [16 17 18 19 20 21 22 23]\n",
      "row2:  [24 25 26 27 28 29 30 31]\n",
      "row2:  [32 33 34 35 36 37 38 39]\n",
      "row2:  [40 41 42 43 44 45 46 47]\n",
      "row2:  [48 49 50 51 52 53 54 55]\n",
      "row2:  [56 57 58 59 60 61 62 63]\n"
     ]
    }
   ],
   "source": [
    "new_arr = np.array([])\n",
    "for idx, i in enumerate(a):\n",
    "    new_row = np.array([])\n",
    "    for idy, z in enumerate(i):\n",
    "        print \"row2: \",a[idx][idy]"
   ]
  },
  {
   "cell_type": "code",
   "execution_count": null,
   "metadata": {
    "collapsed": true
   },
   "outputs": [],
   "source": []
  }
 ],
 "metadata": {
  "kernelspec": {
   "display_name": "Python 2",
   "language": "python",
   "name": "python2"
  },
  "language_info": {
   "codemirror_mode": {
    "name": "ipython",
    "version": 2
   },
   "file_extension": ".py",
   "mimetype": "text/x-python",
   "name": "python",
   "nbconvert_exporter": "python",
   "pygments_lexer": "ipython2",
   "version": "2.7.13"
  }
 },
 "nbformat": 4,
 "nbformat_minor": 2
}
