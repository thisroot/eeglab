{
 "cells": [
  {
   "cell_type": "code",
   "execution_count": 1,
   "metadata": {
    "collapsed": false
   },
   "outputs": [],
   "source": [
    "%matplotlib inline\n",
    "\n",
    "import pickle, os, glob\n",
    "from EEG.info import info_exp\n",
    "from EEG.converter import converter_mne\n",
    "import mne\n",
    "import numpy as np"
   ]
  },
  {
   "cell_type": "code",
   "execution_count": 2,
   "metadata": {
    "collapsed": true
   },
   "outputs": [],
   "source": [
    "root = \"C:\\\\eeg\\\\01exp\\\\\"\n",
    "name = \"20161129_DBS_001\"\n",
    "\n",
    "def load(path,name):\n",
    "    with open(path + '/' + name, 'rb') as input:\n",
    "        data = pickle.load(input)\n",
    "        return data"
   ]
  },
  {
   "cell_type": "code",
   "execution_count": 3,
   "metadata": {
    "collapsed": false
   },
   "outputs": [],
   "source": [
    "test = load(root + name,'exp_data_aligned.cls')"
   ]
  },
  {
   "cell_type": "code",
   "execution_count": 4,
   "metadata": {
    "collapsed": false
   },
   "outputs": [
    {
     "name": "stdout",
     "output_type": "stream",
     "text": [
      "=================================================================\n",
      "Experiment status:  True ; Num tests:  12\n",
      "Align status:  True\n",
      "Respondent name:  Ольга Ветрова\n",
      "Description: Эксперимент с обратной связью\n",
      "Labels_names: [ удалено, отдых, левая, правая ]\n",
      "Frequency: 1000\n",
      "Count train activities:  45\n",
      "Count tests activities: [ 30, 30, 30, 30, 30, 30, 30, 30, 30, 30, 30, 30 ]\n",
      "Time of activity: 4500\n",
      "Type_chanels: eeg  Montage: standard_1005\n",
      "------------------------------------------------------------------\n",
      "Chanels_names:\n",
      "------------------------------------------------------------------\n",
      "FC5        FT7        FC3        FCz        FC4        FT8       \n",
      "T3         C3         Cz         T4         C4        \n",
      "TP7        CP3        CPz        CP4        TP8       \n",
      "FC1        FC2        FC6        P4         C5        \n",
      "C1         C2         C6         P3         CP5       \n",
      "CP1        CP2        CP6        POz       \n",
      "------------------------------------------------------------------\n",
      "List tests\n",
      "------------------------------------------------------------------\n",
      "20161129_173025 20161129_173919 20161129_174505\n",
      "20161129_175011 20161129_175517\n",
      "20161129_180043 20161129_180632\n",
      "20161129_181557 20161129_182114\n",
      "20161129_182715 20161129_183224\n",
      "20161129_183740\n",
      "==================================================================\n"
     ]
    }
   ],
   "source": [
    "test.getinfo()"
   ]
  },
  {
   "cell_type": "code",
   "execution_count": 33,
   "metadata": {
    "collapsed": false
   },
   "outputs": [
    {
     "name": "stdout",
     "output_type": "stream",
     "text": [
      "45 matching events found\n",
      "No baseline correction applied\n",
      "0 projection items activated\n",
      "0 bad epochs dropped\n"
     ]
    }
   ],
   "source": [
    "data  = converter_mne(test)\n",
    "epochs = data.train_epochs()\n",
    "picks = mne.pick_types(info=data.mne_info(), meg=False, eeg=True, misc=False)\n",
    "\n",
    "# get train data\n",
    "Y_train = epochs.events[:,-1]\n",
    "X_train = epochs.get_data().reshape(len(Y_train), -1)"
   ]
  },
  {
   "cell_type": "code",
   "execution_count": 39,
   "metadata": {
    "collapsed": false
   },
   "outputs": [
    {
     "data": {
      "text/plain": [
       "45"
      ]
     },
     "execution_count": 39,
     "metadata": {},
     "output_type": "execute_result"
    }
   ],
   "source": [
    "X_train.shape\n",
    "len(Y_train)"
   ]
  },
  {
   "cell_type": "code",
   "execution_count": 35,
   "metadata": {
    "collapsed": false
   },
   "outputs": [
    {
     "data": {
      "text/plain": [
       "(45L, 30L, 4500L)"
      ]
     },
     "execution_count": 35,
     "metadata": {},
     "output_type": "execute_result"
    }
   ],
   "source": [
    "data.obj.data['data_train'].shape"
   ]
  },
  {
   "cell_type": "code",
   "execution_count": 38,
   "metadata": {
    "collapsed": false
   },
   "outputs": [
    {
     "name": "stdout",
     "output_type": "stream",
     "text": [
      "30 matching events found\n",
      "No baseline correction applied\n",
      "0 projection items activated\n",
      "0 bad epochs dropped\n",
      "30 matching events found\n",
      "No baseline correction applied\n",
      "0 projection items activated\n",
      "0 bad epochs dropped\n",
      "30 matching events found\n",
      "No baseline correction applied\n",
      "0 projection items activated\n",
      "0 bad epochs dropped\n",
      "30 matching events found\n",
      "No baseline correction applied\n",
      "0 projection items activated\n",
      "0 bad epochs dropped\n",
      "30 matching events found\n",
      "No baseline correction applied\n",
      "0 projection items activated\n",
      "0 bad epochs dropped\n",
      "30 matching events found\n",
      "No baseline correction applied\n",
      "0 projection items activated\n",
      "0 bad epochs dropped\n",
      "30 matching events found\n",
      "No baseline correction applied\n",
      "0 projection items activated\n",
      "0 bad epochs dropped\n",
      "30 matching events found\n",
      "No baseline correction applied\n",
      "0 projection items activated\n",
      "0 bad epochs dropped\n",
      "30 matching events found\n",
      "No baseline correction applied\n",
      "0 projection items activated\n",
      "0 bad epochs dropped\n",
      "30 matching events found\n",
      "No baseline correction applied\n",
      "0 projection items activated\n",
      "0 bad epochs dropped\n",
      "30 matching events found\n",
      "No baseline correction applied\n",
      "0 projection items activated\n",
      "0 bad epochs dropped\n",
      "30 matching events found\n",
      "No baseline correction applied\n",
      "0 projection items activated\n",
      "0 bad epochs dropped\n",
      "[1 2 1 1 1 2 3 3 1 3 2 3 1 3 2 2 2 3 2 1 3 3 2 3 2 2 3 1 1 1]\n"
     ]
    }
   ],
   "source": [
    "# get test list\n",
    "test_list = []\n",
    "for i in range(0,data.num_tests):\n",
    "    epochs = data.test_epochs(i).events[:,-1]\n",
    "\n",
    "print epochs\n",
    "    "
   ]
  },
  {
   "cell_type": "code",
   "execution_count": null,
   "metadata": {
    "collapsed": true
   },
   "outputs": [],
   "source": []
  }
 ],
 "metadata": {
  "kernelspec": {
   "display_name": "Python 2",
   "language": "python",
   "name": "python2"
  },
  "language_info": {
   "codemirror_mode": {
    "name": "ipython",
    "version": 2
   },
   "file_extension": ".py",
   "mimetype": "text/x-python",
   "name": "python",
   "nbconvert_exporter": "python",
   "pygments_lexer": "ipython2",
   "version": "2.7.13"
  }
 },
 "nbformat": 4,
 "nbformat_minor": 2
}
